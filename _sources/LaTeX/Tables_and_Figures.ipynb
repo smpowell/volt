{
 "cells": [
  {
   "cell_type": "markdown",
   "metadata": {},
   "source": [
    "# Tables and Figures"
   ]
  },
  {
   "cell_type": "markdown",
   "metadata": {},
   "source": [
    "*Objective: Learn the basic commands to create and edit tables.*"
   ]
  },
  {
   "cell_type": "markdown",
   "metadata": {},
   "source": [
    "## Create basic table"
   ]
  },
  {
   "cell_type": "markdown",
   "metadata": {},
   "source": [
    "Use the tabularx package to create a simple table of the US Women’s Soccer Team’s 2019 World Cup Starting Roster: https://www.ussoccer.com/players\n",
    "\n",
    "Begin with a header row and two columns.\n",
    "* Your two column headers will be: Position and Last Name – Left align the text of the left column\n",
    "* Center the text of the right column\n",
    "* Add vertical and horizontal lines\n",
    "\n",
    "Add a caption “2019 Team Roster” and center the table.  \n",
    "Note: Using the \\caption{} command will add the phrase “Table 1” in front of caption.\n",
    "\n",
    "Use package needed: tabularx\n",
    "\n",
    "Commands needed:  \n",
    "& = column separator  \n",
    "\\\\ = begin new row  \n",
    "l, r, c = column alignment  "
   ]
  },
  {
   "cell_type": "markdown",
   "metadata": {},
   "source": [
    "| Position | Last Name |\n",
    "|-|-|\n",
    "| GK | Naeher |\n",
    "| D | Sauerbrunn |\n",
    "| D | Dahlkemper |\n",
    "| D | O’Hara |\n",
    "| D | Dunn |\n",
    "| M | Mewis |\n",
    "| M | Ertz |\n"
   ]
  },
  {
   "cell_type": "code",
   "execution_count": null,
   "metadata": {},
   "outputs": [],
   "source": []
  }
 ],
 "metadata": {
  "kernelspec": {
   "display_name": "Python 3",
   "language": "python",
   "name": "python3"
  },
  "language_info": {
   "codemirror_mode": {
    "name": "ipython",
    "version": 3
   },
   "file_extension": ".py",
   "mimetype": "text/x-python",
   "name": "python",
   "nbconvert_exporter": "python",
   "pygments_lexer": "ipython3",
   "version": "3.7.6"
  }
 },
 "nbformat": 4,
 "nbformat_minor": 4
}
